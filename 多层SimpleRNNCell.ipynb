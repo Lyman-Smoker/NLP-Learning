{
 "cells": [
  {
   "cell_type": "code",
   "execution_count": 1,
   "metadata": {},
   "outputs": [],
   "source": [
    "import tensorflow as tf\n",
    "import tensorflow.keras.layers as layers"
   ]
  },
  {
   "cell_type": "code",
   "execution_count": 3,
   "metadata": {},
   "outputs": [],
   "source": [
    "x = tf.random.normal([4,80,100])\n",
    "xt = x[:,0,:]   # 取第一个时间戳的输入x0\n",
    "# 构建2个cell，先cell0，后cell1\n",
    "cell0=layers.SimpleRNNCell(64)\n",
    "cell1=layers.SimpleRNNCell(64)\n",
    "h0=[tf.zeros([4,64])]  # cell0初始状态向量\n",
    "h1=[tf.zeros([4,64])]  # cell1初始状态向量\n"
   ]
  },
  {
   "cell_type": "code",
   "execution_count": 6,
   "metadata": {},
   "outputs": [],
   "source": [
    "middle_sequences=[]\n",
    "\n",
    "# 前向计算\n",
    "for xt in tf.unstack(x, axis=1):\n",
    "    out0, h0=cell0(xt,h0)\n",
    "    middle_sequences.append(out0)\n",
    "# 计算第二层的所有时间戳上的输出\n",
    "# 如果不是末层，则需要保存所有时间戳上的输出\n",
    "for ot in middle_sequences:\n",
    "    out1, h1=cell1(ot, h1)"
   ]
  },
  {
   "cell_type": "code",
   "execution_count": null,
   "metadata": {},
   "outputs": [],
   "source": []
  }
 ],
 "metadata": {
  "kernelspec": {
   "display_name": "Python 3",
   "language": "python",
   "name": "python3"
  },
  "language_info": {
   "codemirror_mode": {
    "name": "ipython",
    "version": 3
   },
   "file_extension": ".py",
   "mimetype": "text/x-python",
   "name": "python",
   "nbconvert_exporter": "python",
   "pygments_lexer": "ipython3",
   "version": "3.7.7"
  }
 },
 "nbformat": 4,
 "nbformat_minor": 4
}
