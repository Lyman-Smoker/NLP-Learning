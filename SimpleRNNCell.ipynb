{
 "cells": [
  {
   "cell_type": "code",
   "execution_count": 25,
   "metadata": {},
   "outputs": [],
   "source": [
    "# SimpleRNNCell使用方法\n",
    "import random\n",
    "import numpy as np\n",
    "import tensorflow as tf\n",
    "import tensorflow.keras.layers as layers"
   ]
  },
  {
   "cell_type": "code",
   "execution_count": 26,
   "metadata": {},
   "outputs": [
    {
     "data": {
      "text/plain": [
       "'\\n    kernel变量即Wxh张量\\n    recurrent_kernel变量即Whh张量\\n    bias即为偏置b向量\\n'"
      ]
     },
     "execution_count": 26,
     "metadata": {},
     "output_type": "execute_result"
    }
   ],
   "source": [
    "# 输入特征长度f=4，cell状态向量特征长度h=3\n",
    "cell = layers.SimpleRNNCell(3)\n",
    "cell.build(input_shape=(None,4))\n",
    "cell.trainable_variables\n",
    "\n",
    "'''\n",
    "    kernel变量即Wxh张量\n",
    "    recurrent_kernel变量即Whh张量\n",
    "    bias即为偏置b向量\n",
    "'''"
   ]
  },
  {
   "cell_type": "code",
   "execution_count": 27,
   "metadata": {},
   "outputs": [
    {
     "name": "stdout",
     "output_type": "stream",
     "text": [
      "(4, 64) (4, 64)\n"
     ]
    }
   ],
   "source": [
    "# RNN的状态向量h并不由SimpleRNNCell维护，因此需要用户自行记录\n",
    "# 可以使用ot,ht=cell(x,ht-1)进行前向计算\n",
    "# 初始化状态向量\n",
    "h0 = [tf.zeros([4,64])]\n",
    "x = tf.random.normal([4,80,100]) # 随机生成标准正态分布矩阵\n",
    "xt = x[:,0,:]\n",
    "# 构建输入特征f=100，序列长度s=80，状态长度=64的cell\n",
    "cell = layers.SimpleRNNCell(64)\n",
    "out, h1=cell(xt, h0) # 前向计算\n",
    "print(out.shape,h1[0].shape)"
   ]
  },
  {
   "cell_type": "code",
   "execution_count": 30,
   "metadata": {},
   "outputs": [],
   "source": [
    "# 针对多个RNN细胞\n",
    "h = h0\n",
    "for xt in tf.unstack(x, axis=1):\n",
    "    out, h=cell(xt,h)   # 前向计算\n",
    "# 最终输出可以聚合每个时间戳上的输出，也可以只取最后时间戳的输出\n",
    "out =out"
   ]
  },
  {
   "cell_type": "code",
   "execution_count": null,
   "metadata": {},
   "outputs": [],
   "source": []
  }
 ],
 "metadata": {
  "kernelspec": {
   "display_name": "Python 3",
   "language": "python",
   "name": "python3"
  },
  "language_info": {
   "codemirror_mode": {
    "name": "ipython",
    "version": 3
   },
   "file_extension": ".py",
   "mimetype": "text/x-python",
   "name": "python",
   "nbconvert_exporter": "python",
   "pygments_lexer": "ipython3",
   "version": "3.7.7"
  }
 },
 "nbformat": 4,
 "nbformat_minor": 4
}
