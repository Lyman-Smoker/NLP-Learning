{
 "cells": [
  {
   "cell_type": "markdown",
   "metadata": {},
   "source": [
    "# LSTM学习"
   ]
  },
  {
   "cell_type": "markdown",
   "metadata": {},
   "source": [
    "![这是图片](LSTM.PNG \"Magic Gardens\")"
   ]
  },
  {
   "cell_type": "markdown",
   "metadata": {},
   "source": [
    "## 1、使用LSTMCell实现LSTM\n",
    "### LSTMCell 和 SimpleRNNCell用法基本一致,区别在于LSTM的状态变量List有两个，即[ht, ct]需要分别初始化"
   ]
  },
  {
   "cell_type": "code",
   "execution_count": 2,
   "metadata": {},
   "outputs": [],
   "source": [
    "import tensorflow as tf\n",
    "from tensorflow.keras import layers"
   ]
  },
  {
   "cell_type": "code",
   "execution_count": 3,
   "metadata": {},
   "outputs": [],
   "source": [
    "x = tf.random.normal([2,80,100])\n",
    "xt= x[:,0,:]   #得到第一个时间戳的输入\n",
    "cell = layers.LSTMCell(64) # 创建状态向量长度h=64的LSTM Cell\n",
    "# 初始化状态和输出List[h,c]\n",
    "state = [tf.zeros([2,64]), tf.zeros([2,64])]\n",
    "out, state = cell(xt, state)  # 前向计算"
   ]
  },
  {
   "cell_type": "code",
   "execution_count": 5,
   "metadata": {},
   "outputs": [],
   "source": [
    "# 单层多细胞前向计算\n",
    "state = [tf.zeros([2,64]), tf.zeros([2,64])]\n",
    "for xt in tf.unstack(x, axis=1):\n",
    "    out, state = cell(xt,state)"
   ]
  },
  {
   "cell_type": "markdown",
   "metadata": {},
   "source": [
    "## 2、使用LSTM实现多层LSTM"
   ]
  },
  {
   "cell_type": "markdown",
   "metadata": {},
   "source": [
    "### ①单层SLTM"
   ]
  },
  {
   "cell_type": "code",
   "execution_count": 7,
   "metadata": {},
   "outputs": [],
   "source": [
    "layer = layers.LSTM(64)\n",
    "out = layer(x)"
   ]
  },
  {
   "cell_type": "markdown",
   "metadata": {},
   "source": [
    "### ②多层LSTM，以双层为例"
   ]
  },
  {
   "cell_type": "code",
   "execution_count": 8,
   "metadata": {},
   "outputs": [
    {
     "data": {
      "text/plain": [
       "TensorShape([2, 64])"
      ]
     },
     "execution_count": 8,
     "metadata": {},
     "output_type": "execute_result"
    }
   ],
   "source": [
    "net = tf.keras.Sequential([\n",
    "    layers.LSTM(64, return_sequences=True),\n",
    "    layers.LSTM(64)\n",
    "])\n",
    "out = net(x)\n",
    "out.shape"
   ]
  },
  {
   "cell_type": "code",
   "execution_count": null,
   "metadata": {},
   "outputs": [],
   "source": []
  }
 ],
 "metadata": {
  "kernelspec": {
   "display_name": "Python 3",
   "language": "python",
   "name": "python3"
  },
  "language_info": {
   "codemirror_mode": {
    "name": "ipython",
    "version": 3
   },
   "file_extension": ".py",
   "mimetype": "text/x-python",
   "name": "python",
   "nbconvert_exporter": "python",
   "pygments_lexer": "ipython3",
   "version": "3.7.7"
  }
 },
 "nbformat": 4,
 "nbformat_minor": 4
}
